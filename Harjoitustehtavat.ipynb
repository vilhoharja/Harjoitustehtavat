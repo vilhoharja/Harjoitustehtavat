{
 "cells": [
  {
   "cell_type": "code",
   "execution_count": 2,
   "metadata": {},
   "outputs": [
    {
     "name": "stdout",
     "output_type": "stream",
     "text": [
      "Printer App\n",
      "This app is made by:  Vilho\n",
      "4 + 8 = 12\n",
      "4 - 8 = -4\n",
      "4 * 8 = 32\n",
      "4 / 8 = 0.5\n"
     ]
    }
   ],
   "source": [
    "num1 = 4\n",
    "num2 = 8\n",
    "addition = num1 + num2\n",
    "substraction = num1 - num2\n",
    "division = num1 / num2\n",
    "multiplication = num1 * num2\n",
    "creator = \"Vilho\"\n",
    "print (\"Printer App\")\n",
    "print (\"This app is made by: \", creator)\n",
    "\n",
    "\n",
    "print (num1,\"+\",num2,\"=\",addition)\n",
    "print(num1, \"-\", num2, \"=\", substraction)\n",
    "print(num1,\"*\",num2, \"=\",multiplication)\n",
    "print(num1, \"/\", num2 ,\"=\", division)"
   ]
  },
  {
   "cell_type": "code",
   "execution_count": 21,
   "metadata": {},
   "outputs": [
    {
     "ename": "NameError",
     "evalue": "name 'Jorma' is not defined",
     "output_type": "error",
     "traceback": [
      "\u001b[1;31m---------------------------------------------------------------------------\u001b[0m",
      "\u001b[1;31mNameError\u001b[0m                                 Traceback (most recent call last)",
      "\u001b[1;32mc:\\Users\\Vilho\\OneDrive\\Desktop\\Gitit\\Harjoitustehtavat\\Harjoitustehtavat.ipynb Cell 2\u001b[0m line \u001b[0;36m4\n\u001b[0;32m      <a href='vscode-notebook-cell:/c%3A/Users/Vilho/OneDrive/Desktop/Gitit/Harjoitustehtavat/Harjoitustehtavat.ipynb#W1sZmlsZQ%3D%3D?line=0'>1</a>\u001b[0m \u001b[39m#num1 = 9\u001b[39;00m\n\u001b[0;32m      <a href='vscode-notebook-cell:/c%3A/Users/Vilho/OneDrive/Desktop/Gitit/Harjoitustehtavat/Harjoitustehtavat.ipynb#W1sZmlsZQ%3D%3D?line=1'>2</a>\u001b[0m \u001b[39m#num2 = 10\u001b[39;00m\n\u001b[0;32m      <a href='vscode-notebook-cell:/c%3A/Users/Vilho/OneDrive/Desktop/Gitit/Harjoitustehtavat/Harjoitustehtavat.ipynb#W1sZmlsZQ%3D%3D?line=2'>3</a>\u001b[0m \u001b[39m#num3 = 8\u001b[39;00m\n\u001b[1;32m----> <a href='vscode-notebook-cell:/c%3A/Users/Vilho/OneDrive/Desktop/Gitit/Harjoitustehtavat/Harjoitustehtavat.ipynb#W1sZmlsZQ%3D%3D?line=3'>4</a>\u001b[0m name1 \u001b[39m=\u001b[39m Jorma\n\u001b[0;32m      <a href='vscode-notebook-cell:/c%3A/Users/Vilho/OneDrive/Desktop/Gitit/Harjoitustehtavat/Harjoitustehtavat.ipynb#W1sZmlsZQ%3D%3D?line=4'>5</a>\u001b[0m name2 \u001b[39m=\u001b[39m Pekka\n\u001b[0;32m      <a href='vscode-notebook-cell:/c%3A/Users/Vilho/OneDrive/Desktop/Gitit/Harjoitustehtavat/Harjoitustehtavat.ipynb#W1sZmlsZQ%3D%3D?line=5'>6</a>\u001b[0m name3 \u001b[39m=\u001b[39m Erkki\n",
      "\u001b[1;31mNameError\u001b[0m: name 'Jorma' is not defined"
     ]
    }
   ],
   "source": [
    "#num1 = 9\n",
    "#num2 = 10\n",
    "#num3 = 8\n",
    "name1 = Jorma\n",
    "name2 = Pekka\n",
    "name3 = Erkki\n",
    "#if (num1 == num2):\n",
    "#   print (\"The numbers are equal.\")\n",
    "\n",
    "\n",
    "#if(num1 > num2):\n",
    "#   print(num1, \"is greater than\", num2)\n",
    "\n",
    "\n",
    "#if(num1 >= num2):\n",
    "#    print (num1, \"is equal or greater than\", num2)\n",
    "\n",
    "#if(num1 != num2):\n",
    "#    print(num1, \"is not equal to\", num2)\n",
    "\n",
    "#if (num1 == num2 == num3):\n",
    "#   print (\"All numbers are equal.\")\n",
    "#else: print (\"All numbers are not equal.\")\n",
    "\n",
    "#if num1 == num2 or num2 == num3:\n",
    "#   print (\"Some of the numbers are equal.\")\n",
    "\n",
    "#if num1 > num2 and num1 > num3:\n",
    "#    print (num1, \"is greater than\", num2, \"and\", num3)\n",
    "\n",
    "#if num1 < num2 and num2 > num3:\n",
    "#    print (num1, \"is not greater than\", num2, \"but\", num2, \"is greater than\", num3)\n",
    "\n",
    "if name1 is name2:\n",
    "    print(name1, \"and\", name2, \"are equal.\")\n",
    "\n",
    "   \n"
   ]
  }
 ],
 "metadata": {
  "kernelspec": {
   "display_name": "Python 3",
   "language": "python",
   "name": "python3"
  },
  "language_info": {
   "codemirror_mode": {
    "name": "ipython",
    "version": 3
   },
   "file_extension": ".py",
   "mimetype": "text/x-python",
   "name": "python",
   "nbconvert_exporter": "python",
   "pygments_lexer": "ipython3",
   "version": "3.12.0"
  }
 },
 "nbformat": 4,
 "nbformat_minor": 2
}
