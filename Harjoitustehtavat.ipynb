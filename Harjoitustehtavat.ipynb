{
 "cells": [
  {
   "cell_type": "code",
   "execution_count": null,
   "metadata": {},
   "outputs": [],
   "source": [
    "num1 = 4\n",
    "num2 = 8\n",
    "addition = num1 + num2\n",
    "substraction = num1 - num2\n",
    "division = num1 / num2\n",
    "multiplication = num1 * num2\n",
    "\n",
    "print (\"Printer App\")\n",
    "print (\"This app is made by: \", creator)\n",
    "creator = \"Vilho\"\n",
    "\n",
    "print (num1,\"+\",num2,\"=\",addition)\n",
    "print(num1, \"-\", num2, \"=\", substraction)\n",
    "print(num1,\"*\",num2, \"=\",multiplication)\n",
    "print(num1, \"/\", num2 ,\"=\", division)"
   ]
  }
 ],
 "metadata": {
  "kernelspec": {
   "display_name": "Python 3",
   "language": "python",
   "name": "python3"
  },
  "language_info": {
   "name": "python",
   "version": "3.12.0"
  }
 },
 "nbformat": 4,
 "nbformat_minor": 2
}
