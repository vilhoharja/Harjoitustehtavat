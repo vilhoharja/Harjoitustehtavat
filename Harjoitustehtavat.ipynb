{
 "cells": [
  {
   "cell_type": "code",
   "execution_count": 3,
   "metadata": {},
   "outputs": [
    {
     "name": "stdout",
     "output_type": "stream",
     "text": [
      "Printer App\n",
      "This app is made by:  Vilho\n",
      "4 + 8 = 12\n",
      "4 - 8 = -4\n",
      "4 * 8 = 32\n",
      "4 / 8 = 0.5\n"
     ]
    }
   ],
   "source": [
    "\n",
    "num1 = 4\n",
    "num2 = 8\n",
    "addition = num1 + num2\n",
    "substraction = num1 - num2\n",
    "division = num1 / num2\n",
    "multiplication = num1 * num2\n",
    "creator = \"Vilho\"\n",
    "print (\"Printer App\")\n",
    "print (\"This app is made by: \", creator)\n",
    "\n",
    "\n",
    "print (num1,\"+\",num2,\"=\",addition)\n",
    "print(num1, \"-\", num2, \"=\", substraction)\n",
    "print(num1,\"*\",num2, \"=\",multiplication)\n",
    "print(num1, \"/\", num2 ,\"=\", division)\n"
   ]
  },
  {
   "cell_type": "code",
   "execution_count": 1,
   "metadata": {},
   "outputs": [
    {
     "name": "stdout",
     "output_type": "stream",
     "text": [
      "9 is not equal to 10\n",
      "All numbers are not equal.\n",
      "9 is not greater than 10 but 10 is greater than 8\n",
      "Jussi and Jampe are not equal.\n",
      "Jussi and Jussi are equal.\n"
     ]
    }
   ],
   "source": [
    "num1 = 9\n",
    "num2 = 10\n",
    "num3 = 8\n",
    "\n",
    "if (num1 == num2):\n",
    "   print (\"The numbers are equal.\")\n",
    "\n",
    "\n",
    "if(num1 > num2):\n",
    "   print(num1, \"is greater than\", num2)\n",
    "\n",
    "\n",
    "if(num1 >= num2):\n",
    "    print (num1, \"is equal or greater than\", num2)\n",
    "\n",
    "if(num1 != num2):\n",
    "    print(num1, \"is not equal to\", num2)\n",
    "\n",
    "if (num1 == num2 == num3):\n",
    "   print (\"All numbers are equal.\")\n",
    "else: print (\"All numbers are not equal.\")\n",
    "\n",
    "if num1 == num2 or num2 == num3:\n",
    "   print (\"Some of the numbers are equal.\")\n",
    "\n",
    "if num1 > num2 and num1 > num3:\n",
    "    print (num1, \"is greater than\", num2, \"and\", num3)\n",
    "\n",
    "if num1 < num2 and num2 > num3:\n",
    "    print (num1, \"is not greater than\", num2, \"but\", num2, \"is greater than\", num3)\n",
    "\n",
    "name1 = \"Jussi\"\n",
    "name2 = \"Jampe\"\n",
    "name3 = \"Jussi\"\n",
    "\n",
    "if name1 == name2:\n",
    "    print(name1, \"and\", name2, \"are equal.\")\n",
    "else: print(name1, \"and\", name2, \"are not equal.\")\n",
    "\n",
    "if name1 == name2:\n",
    "    print(name1, \"and\", name2, \"are equal.\")\n",
    "elif name1 == name3:\n",
    "    print(name1,\"and\",name3,\"are equal.\")\n",
    "\n",
    "\n",
    "   \n"
   ]
  },
  {
   "cell_type": "code",
   "execution_count": 11,
   "metadata": {},
   "outputs": [
    {
     "name": "stdout",
     "output_type": "stream",
     "text": [
      "['table', 'chair', 'shelf', 'bed', 'sofa']\n",
      "['table', 'chair']\n",
      "sofa\n",
      "5\n",
      "Sofa is in the list.\n"
     ]
    }
   ],
   "source": [
    "mylist = [\"table\", \"chair\", \"shelf\", \"bed\", \"sofa\"]\n",
    "print(mylist)\n",
    "print(mylist[0:2])\n",
    "print(mylist[4])\n",
    "print(len(mylist))\n",
    "if \"sofa\" in mylist: \n",
    "     print(\"Sofa is in the list.\")\n",
    "else: \n",
    "    print(\"Sofa is not in the list.\")\n"
   ]
  },
  {
   "cell_type": "code",
   "execution_count": 12,
   "metadata": {},
   "outputs": [
    {
     "name": "stdout",
     "output_type": "stream",
     "text": [
      "[1, 3, 2, 4, 2]\n",
      "12\n",
      "Best throw:  4\n"
     ]
    }
   ],
   "source": [
    "from random import randint\n",
    "thrownDiceNumbers = []\n",
    "\n",
    "for _ in range(5):\n",
    "    randomNumber = randint(1,5)\n",
    "    thrownDiceNumbers.append(randomNumber)\n",
    "    \n",
    "print (thrownDiceNumbers)\n",
    "\n",
    "thrownSum = sum(thrownDiceNumbers)\n",
    "print (thrownSum)\n",
    "\n",
    "biggestThrow = max(thrownDiceNumbers)\n",
    "print (\"Best throw: \", biggestThrow)\n",
    "\n",
    "   "
   ]
  },
  {
   "cell_type": "code",
   "execution_count": 1,
   "metadata": {},
   "outputs": [
    {
     "name": "stdout",
     "output_type": "stream",
     "text": [
      "Wrong. Try again.\n",
      "Wrong. Try again.\n",
      "Wrong. Try again.\n"
     ]
    }
   ],
   "source": [
    "name = \"Jaakko\"\n",
    "attempts = 0\n",
    "while True:\n",
    "    guess1 = input(\"What is my name?\")\n",
    "    attempts += 1\n",
    "    if guess1 == name:  \n",
    "        print(\"Congratulations!\")\n",
    "        print(\"You guessed\", attempts, \"times!\")\n",
    "        break \n",
    "    else: print(\"Wrong. Try again.\")\n",
    "\n"
   ]
  },
  {
   "cell_type": "code",
   "execution_count": 3,
   "metadata": {},
   "outputs": [
    {
     "name": "stdout",
     "output_type": "stream",
     "text": [
      "   order_id customer_name  total_amount item_name  quantity\n",
      "0         1         Alice         25.50     Pizza         1\n",
      "1         2           Bob         30.20    Burger         2\n",
      "2         3       Charlie         15.75     Salad         3\n"
     ]
    }
   ],
   "source": [
    "import pandas as pd\n",
    "import numpy as np\n",
    "\n",
    "\n",
    "\n",
    "\n",
    "orders_data = {'order_id': [1, 2, 3], 'customer_name': ['Alice', 'Bob', 'Charlie'], 'total_amount': [25.5, 30.2, 15.75]}\n",
    "orders_df = pd.DataFrame(orders_data)\n",
    "\n",
    "\n",
    "portions_data = {'order_id': [2, 1, 3], 'item_name': ['Burger', 'Pizza', 'Salad'], 'quantity': [2, 1, 3]}\n",
    "portions_df = pd.DataFrame(portions_data)\n",
    "pd.concat([portions_df, orders_df])\n",
    "\n",
    "merged_df = pd.merge(orders_df, portions_df, on='order_id')\n",
    "print(merged_df)"
   ]
  }
 ],
 "metadata": {
  "kernelspec": {
   "display_name": "Python 3",
   "language": "python",
   "name": "python3"
  },
  "language_info": {
   "codemirror_mode": {
    "name": "ipython",
    "version": 3
   },
   "file_extension": ".py",
   "mimetype": "text/x-python",
   "name": "python",
   "nbconvert_exporter": "python",
   "pygments_lexer": "ipython3",
   "version": "3.12.0"
  }
 },
 "nbformat": 4,
 "nbformat_minor": 2
}
